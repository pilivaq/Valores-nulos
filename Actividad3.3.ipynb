{
 "cells": [
  {
   "cell_type": "code",
   "execution_count": 3,
   "id": "5eb526fe",
   "metadata": {},
   "outputs": [],
   "source": [
    "#Importamos las librerias pandas, numpy y matplotlib respectivamente\n",
    "import pandas as pd\n",
    "import numpy as np\n",
    "import matplotlib.pyplot as plt"
   ]
  },
  {
   "cell_type": "code",
   "execution_count": 4,
   "id": "bdce2146",
   "metadata": {},
   "outputs": [
    {
     "name": "stdout",
     "output_type": "stream",
     "text": [
      "Columnas: ['Unnamed: 0', 'id', 'last_scraped', 'source', 'host_since', 'host_location', 'host_about', 'host_response_time', 'host_response_rate', 'host_acceptance_rate', 'host_is_superhost', 'host_picture_url', 'host_neighbourhood', 'host_listings_count', 'host_total_listings_count', 'host_verifications', 'host_has_profile_pic', 'host_identity_verified', 'neighbourhood', 'neighbourhood_cleansed', 'neighbourhood_group_cleansed', 'latitude', 'longitude', 'property_type', 'room_type', 'accommodates', 'bathrooms_text', 'bedrooms', 'beds', 'price', 'minimum_nights', 'has_availability', 'availability_30', 'availability_60', 'availability_90', 'availability_365', 'calendar_last_scraped', 'number_of_reviews', 'number_of_reviews_ltm', 'number_of_reviews_l30d', 'availability_eoy', 'estimated_occupancy_l365d', 'estimated_revenue_l365d', 'first_review', 'last_review', 'review_scores_rating', 'review_scores_accuracy', 'review_scores_cleanliness', 'review_scores_checkin', 'review_scores_communication', 'review_scores_location', 'review_scores_value', 'license', 'instant_bookable']\n",
      "   Unnamed: 0      id last_scraped       source  host_since  host_location  \\\n",
      "0           0  2539.0   17/06/2025  city scrape  07/09/2008   New York, NY   \n",
      "1           1  2595.0   17/06/2025  city scrape  09/09/2008  Woodstock, NY   \n",
      "2           2  5136.0   17/06/2025  city scrape  03/02/2009   New York, NY   \n",
      "\n",
      "                                          host_about  host_response_time  \\\n",
      "0  Educated professional living in Brooklyn.  I l...  within a few hours   \n",
      "1  A New Yorker since 2000! My passion is creatin...  within a few hours   \n",
      "2  Rebecca is an artist/designer, and Henoch is i...                 NaN   \n",
      "\n",
      "  host_response_rate host_acceptance_rate  ... last_review  \\\n",
      "0               100%                  80%  ...  19/10/2018   \n",
      "1                94%                  24%  ...  21/06/2022   \n",
      "2                NaN                 100%  ...  20/08/2023   \n",
      "\n",
      "  review_scores_rating review_scores_accuracy  review_scores_cleanliness  \\\n",
      "0                 4.89                   4.88                       5.00   \n",
      "1                 4.68                   4.73                       4.63   \n",
      "2                 4.75                   4.75                       4.50   \n",
      "\n",
      "   review_scores_checkin review_scores_communication review_scores_location  \\\n",
      "0                   5.00                         5.0                   4.75   \n",
      "1                   4.77                         4.8                   4.81   \n",
      "2                   5.00                         5.0                   4.75   \n",
      "\n",
      "  review_scores_value license instant_bookable  \n",
      "0                4.88     NaN                f  \n",
      "1                4.40     NaN                f  \n",
      "2                4.75     NaN                t  \n",
      "\n",
      "[3 rows x 54 columns]\n"
     ]
    }
   ],
   "source": [
    "# 2) Cargar dataset\n",
    "df = pd.read_csv(\"NEW YORK.csv\")\n",
    "\n",
    "# Vista rápida\n",
    "print(\"Columnas:\", df.columns.tolist())\n",
    "print(df.head(3))"
   ]
  },
  {
   "cell_type": "code",
   "execution_count": 5,
   "id": "e54189af",
   "metadata": {},
   "outputs": [
    {
     "data": {
      "text/plain": [
       "Unnamed: 0                          0\n",
       "id                                  0\n",
       "last_scraped                        0\n",
       "source                              0\n",
       "host_since                         15\n",
       "host_location                    7409\n",
       "host_about                      15366\n",
       "host_response_time              14772\n",
       "host_response_rate              14772\n",
       "host_acceptance_rate            14602\n",
       "host_is_superhost                 492\n",
       "host_picture_url                   15\n",
       "host_neighbourhood               7288\n",
       "host_listings_count                15\n",
       "host_total_listings_count          15\n",
       "host_verifications                 15\n",
       "host_has_profile_pic               15\n",
       "host_identity_verified             15\n",
       "neighbourhood                   17237\n",
       "neighbourhood_cleansed              0\n",
       "neighbourhood_group_cleansed        0\n",
       "latitude                            0\n",
       "longitude                           0\n",
       "property_type                       0\n",
       "room_type                           0\n",
       "accommodates                        0\n",
       "bathrooms_text                     36\n",
       "bedrooms                         6048\n",
       "beds                            14702\n",
       "price                           14863\n",
       "minimum_nights                      0\n",
       "has_availability                 5617\n",
       "availability_30                     0\n",
       "availability_60                     0\n",
       "availability_90                     0\n",
       "availability_365                    0\n",
       "calendar_last_scraped               0\n",
       "number_of_reviews                   0\n",
       "number_of_reviews_ltm               0\n",
       "number_of_reviews_l30d              0\n",
       "availability_eoy                    0\n",
       "estimated_occupancy_l365d           0\n",
       "estimated_revenue_l365d         14863\n",
       "first_review                    11151\n",
       "last_review                     11151\n",
       "review_scores_rating            11151\n",
       "review_scores_accuracy          11161\n",
       "review_scores_cleanliness       11152\n",
       "review_scores_checkin           11165\n",
       "review_scores_communication     11157\n",
       "review_scores_location          11168\n",
       "review_scores_value             11167\n",
       "license                         30993\n",
       "instant_bookable                    0\n",
       "dtype: int64"
      ]
     },
     "execution_count": 5,
     "metadata": {},
     "output_type": "execute_result"
    }
   ],
   "source": [
    "#Identificar valores nulos por columna\n",
    "valores_nulos=df.isnull().sum()\n",
    "valores_nulos"
   ]
  },
  {
   "cell_type": "code",
   "execution_count": 6,
   "id": "cf671431",
   "metadata": {},
   "outputs": [],
   "source": [
    "# Quita $ y comas; usa raw string para evitar warnings\n",
    "df[\"price\"] = df[\"price\"].replace(r'[\\$,]', '', regex=True).astype(float)\n"
   ]
  },
  {
   "cell_type": "code",
   "execution_count": null,
   "id": "4d3684e4",
   "metadata": {},
   "outputs": [
    {
     "name": "stdout",
     "output_type": "stream",
     "text": [
      "Promedio por room_type:\n",
      "          room_type         price\n",
      "0  Entire home/apt    306.338406\n",
      "1       Hotel room  27577.795349\n",
      "2     Private room    167.778610\n",
      "3      Shared room    135.478571\n"
     ]
    }
   ],
   "source": [
    "#promedio precios \n",
    "prom_por_tipo = df.groupby(\"room_type\")[\"price\"].mean().reset_index()\n",
    "print(\"Promedio por room_type:\\n\", prom_por_tipo)\n"
   ]
  },
  {
   "cell_type": "code",
   "execution_count": 8,
   "id": "27ff8683",
   "metadata": {},
   "outputs": [
    {
     "name": "stdout",
     "output_type": "stream",
     "text": [
      "          room_type bathrooms_text         price\n",
      "0   Entire home/apt        0 baths    228.795455\n",
      "1   Entire home/apt         1 bath    251.319763\n",
      "2   Entire home/apt      1.5 baths    335.876963\n",
      "3   Entire home/apt     15.5 baths   2029.000000\n",
      "4   Entire home/apt        2 baths    499.479226\n",
      "5   Entire home/apt      2.5 baths    601.895833\n",
      "6   Entire home/apt        3 baths    722.818182\n",
      "7   Entire home/apt      3.5 baths   1048.169014\n",
      "8   Entire home/apt        4 baths   1600.827586\n",
      "9   Entire home/apt      4.5 baths   1269.423077\n",
      "10  Entire home/apt        5 baths    952.714286\n",
      "11  Entire home/apt      5.5 baths   1765.750000\n",
      "12  Entire home/apt        6 baths   2112.000000\n",
      "13  Entire home/apt      6.5 baths   2568.500000\n",
      "14  Entire home/apt        7 baths   1836.000000\n",
      "15  Entire home/apt      7.5 baths   2653.666667\n",
      "16  Entire home/apt        9 baths   2250.000000\n",
      "17  Entire home/apt      Half-bath    706.312500\n",
      "18  Entire home/apt            NaN    180.000000\n",
      "19       Hotel room         1 bath  27340.955357\n"
     ]
    }
   ],
   "source": [
    "# Promedio por room_type y bathrooms_text con na\n",
    "prom_por_tipo_bath = (\n",
    "    df.groupby([\"room_type\", \"bathrooms_text\"], dropna=False)[\"price\"]\n",
    "      .mean()\n",
    "      .reset_index()\n",
    ")\n",
    "print(prom_por_tipo_bath.head(20))\n"
   ]
  },
  {
   "cell_type": "code",
   "execution_count": 9,
   "id": "831ac8a9",
   "metadata": {},
   "outputs": [
    {
     "name": "stdout",
     "output_type": "stream",
     "text": [
      "NaN en price después del relleno: 0\n"
     ]
    }
   ],
   "source": [
    "#rellenar price con el promedio por room_type y bathrooms_text\n",
    "df[\"price\"] = df[\"price\"].fillna(\n",
    "    df.groupby(\"room_type\")[\"price\"].transform(\"mean\")\n",
    ")\n",
    "\n",
    "# Verificación rápida de que ya no hay NaN en price\n",
    "print(\"NaN en price después del relleno:\", df[\"price\"].isna().sum())\n"
   ]
  }
 ],
 "metadata": {
  "kernelspec": {
   "display_name": "Python 3",
   "language": "python",
   "name": "python3"
  },
  "language_info": {
   "codemirror_mode": {
    "name": "ipython",
    "version": 3
   },
   "file_extension": ".py",
   "mimetype": "text/x-python",
   "name": "python",
   "nbconvert_exporter": "python",
   "pygments_lexer": "ipython3",
   "version": "3.13.7"
  }
 },
 "nbformat": 4,
 "nbformat_minor": 5
}
